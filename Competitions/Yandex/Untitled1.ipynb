{
 "cells": [
  {
   "cell_type": "code",
   "execution_count": 56,
   "metadata": {},
   "outputs": [],
   "source": [
    "import datetime\n",
    "import numpy as np\n",
    "import pandas as pd"
   ]
  },
  {
   "cell_type": "code",
   "execution_count": 57,
   "metadata": {},
   "outputs": [],
   "source": [
    "t, e= 60, 3\n",
    "df = []\n",
    "logs =['[2020-03-16 16:15:25] INFO Disk size is 100 Gb', \n",
    "       '[2020-03-16 16:15:25] ERROR Db failute]', \n",
    "       '[2020-03-16 16:15:25] ERROR Network failute', \n",
    "       '[2020-03-16 16:16:29] ERROR Cant write varlog',\n",
    "       '[2020-03-16 16:16:42] ERROR Unable to start process',\n",
    "       '[2020-03-16 16:16:43] WARNING Disk size is too small',\n",
    "       '[2020-03-16 16:16:43] ERROR Config not found',\n",
    "       '[2020-03-16 16:16:53] ERROR Timeout detected']\n"
   ]
  },
  {
   "cell_type": "code",
   "execution_count": 68,
   "metadata": {},
   "outputs": [],
   "source": [
    "\n",
    "for el in logs:\n",
    "    el = el.split('] ')\n",
    "    el[0] = el[0].replace('[', '')\n",
    "    if el[1][0:5] == 'ERROR':        \n",
    "        temp = [el[0], True]\n",
    "    else:\n",
    "        temp = [el[0], False]\n",
    "    df.append(temp)\n",
    "df = pd.DataFrame(df, columns=['date_time', 'is_err'])\n",
    "df['date_time'] = pd.to_datetime(df['date_time'], format='%Y-%m-%d %H:%M:%S')\n",
    "df = df.sort_values('date_time')"
   ]
  },
  {
   "cell_type": "code",
   "execution_count": 72,
   "metadata": {},
   "outputs": [
    {
     "data": {
      "text/plain": [
       "array([[Timestamp('2020-03-16 16:15:25'), False],\n",
       "       [Timestamp('2020-03-16 16:15:25'), True],\n",
       "       [Timestamp('2020-03-16 16:15:25'), True],\n",
       "       [Timestamp('2020-03-16 16:16:29'), True],\n",
       "       [Timestamp('2020-03-16 16:16:42'), True],\n",
       "       [Timestamp('2020-03-16 16:16:43'), False],\n",
       "       [Timestamp('2020-03-16 16:16:43'), True],\n",
       "       [Timestamp('2020-03-16 16:16:53'), True]], dtype=object)"
      ]
     },
     "execution_count": 72,
     "metadata": {},
     "output_type": "execute_result"
    }
   ],
   "source": [
    "df.values"
   ]
  },
  {
   "cell_type": "code",
   "execution_count": null,
   "metadata": {},
   "outputs": [],
   "source": []
  }
 ],
 "metadata": {
  "kernelspec": {
   "display_name": "Python 3",
   "language": "python",
   "name": "python3"
  },
  "language_info": {
   "codemirror_mode": {
    "name": "ipython",
    "version": 3
   },
   "file_extension": ".py",
   "mimetype": "text/x-python",
   "name": "python",
   "nbconvert_exporter": "python",
   "pygments_lexer": "ipython3",
   "version": "3.7.3"
  }
 },
 "nbformat": 4,
 "nbformat_minor": 2
}
