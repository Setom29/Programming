{
 "cells": [
  {
   "cell_type": "code",
   "execution_count": 230,
   "metadata": {},
   "outputs": [],
   "source": [
    "import json\n",
    "import pandas as pd\n",
    "import numpy as np\n",
    "input = [\n",
    "    {\n",
    "\t\t\"event_id\": 2,\n",
    "\t\t\"order_id\": 1,\n",
    "\t\t\"item_id\": 1,\n",
    "\t\t\"count\": 2,\n",
    "\t\t\"return_count\": 1,\n",
    "\t\t\"status\": \"OK\"\n",
    "\t},\n",
    "\t{\n",
    "\t\t\"event_id\": 1,\n",
    "\t\t\"order_id\": 1,\n",
    "\t\t\"item_id\": 1,\n",
    "\t\t\"count\": 2,\n",
    "\t\t\"return_count\": 0,\n",
    "\t\t\"status\": \"OK\"\n",
    "\t},\n",
    "\t{\n",
    "\t\t\"event_id\": 2,\n",
    "\t\t\"order_id\": 2,\n",
    "\t\t\"item_id\": 1,\n",
    "\t\t\"count\": 3,\n",
    "\t\t\"return_count\": 1,\n",
    "\t\t\"status\": \"OK\"\n",
    "\t},\n",
    "\t{\n",
    "\t\t\"event_id\": 3,\n",
    "\t\t\"order_id\": 1,\n",
    "\t\t\"item_id\": 1,\n",
    "\t\t\"count\": 2,\n",
    "\t\t\"return_count\": 0,\n",
    "\t\t\"status\": \"OK\"\n",
    "\t},\n",
    "\t{\n",
    "\t\t\"event_id\": 1,\n",
    "\t\t\"order_id\": 3,\n",
    "\t\t\"item_id\": 1,\n",
    "\t\t\"count\": 2,\n",
    "\t\t\"return_count\": 2,\n",
    "\t\t\"status\": \"CANCEL\"\n",
    "\t}\n",
    "]\n",
    "with open('input.json', 'w', encoding='utf-8') as f:\n",
    "    json.dump(input, f)"
   ]
  },
  {
   "cell_type": "code",
   "execution_count": 251,
   "metadata": {},
   "outputs": [
    {
     "data": {
      "text/html": [
       "<div>\n",
       "<style scoped>\n",
       "    .dataframe tbody tr th:only-of-type {\n",
       "        vertical-align: middle;\n",
       "    }\n",
       "\n",
       "    .dataframe tbody tr th {\n",
       "        vertical-align: top;\n",
       "    }\n",
       "\n",
       "    .dataframe thead th {\n",
       "        text-align: right;\n",
       "    }\n",
       "</style>\n",
       "<table border=\"1\" class=\"dataframe\">\n",
       "  <thead>\n",
       "    <tr style=\"text-align: right;\">\n",
       "      <th></th>\n",
       "      <th>count</th>\n",
       "      <th>event_id</th>\n",
       "      <th>item_id</th>\n",
       "      <th>order_id</th>\n",
       "      <th>return_count</th>\n",
       "      <th>status</th>\n",
       "    </tr>\n",
       "  </thead>\n",
       "  <tbody>\n",
       "    <tr>\n",
       "      <th>0</th>\n",
       "      <td>2</td>\n",
       "      <td>2</td>\n",
       "      <td>1</td>\n",
       "      <td>1</td>\n",
       "      <td>1</td>\n",
       "      <td>OK</td>\n",
       "    </tr>\n",
       "    <tr>\n",
       "      <th>1</th>\n",
       "      <td>2</td>\n",
       "      <td>1</td>\n",
       "      <td>1</td>\n",
       "      <td>1</td>\n",
       "      <td>0</td>\n",
       "      <td>OK</td>\n",
       "    </tr>\n",
       "    <tr>\n",
       "      <th>3</th>\n",
       "      <td>2</td>\n",
       "      <td>3</td>\n",
       "      <td>1</td>\n",
       "      <td>1</td>\n",
       "      <td>0</td>\n",
       "      <td>OK</td>\n",
       "    </tr>\n",
       "    <tr>\n",
       "      <th>2</th>\n",
       "      <td>3</td>\n",
       "      <td>2</td>\n",
       "      <td>1</td>\n",
       "      <td>2</td>\n",
       "      <td>1</td>\n",
       "      <td>OK</td>\n",
       "    </tr>\n",
       "    <tr>\n",
       "      <th>4</th>\n",
       "      <td>2</td>\n",
       "      <td>1</td>\n",
       "      <td>1</td>\n",
       "      <td>3</td>\n",
       "      <td>2</td>\n",
       "      <td>CANCEL</td>\n",
       "    </tr>\n",
       "  </tbody>\n",
       "</table>\n",
       "</div>"
      ],
      "text/plain": [
       "   count  event_id  item_id  order_id  return_count  status\n",
       "0      2         2        1         1             1      OK\n",
       "1      2         1        1         1             0      OK\n",
       "3      2         3        1         1             0      OK\n",
       "2      3         2        1         2             1      OK\n",
       "4      2         1        1         3             2  CANCEL"
      ]
     },
     "execution_count": 251,
     "metadata": {},
     "output_type": "execute_result"
    }
   ],
   "source": [
    "with open('input.json', 'r', encoding='utf-8') as f:\n",
    "    data = pd.DataFrame(json.load(f)).sort_values('order_id')\n",
    "data"
   ]
  },
  {
   "cell_type": "code",
   "execution_count": 254,
   "metadata": {},
   "outputs": [
    {
     "data": {
      "text/html": [
       "<div>\n",
       "<style scoped>\n",
       "    .dataframe tbody tr th:only-of-type {\n",
       "        vertical-align: middle;\n",
       "    }\n",
       "\n",
       "    .dataframe tbody tr th {\n",
       "        vertical-align: top;\n",
       "    }\n",
       "\n",
       "    .dataframe thead th {\n",
       "        text-align: right;\n",
       "    }\n",
       "</style>\n",
       "<table border=\"1\" class=\"dataframe\">\n",
       "  <thead>\n",
       "    <tr style=\"text-align: right;\">\n",
       "      <th></th>\n",
       "      <th>order_id</th>\n",
       "      <th>count</th>\n",
       "      <th>event_id</th>\n",
       "      <th>item_id</th>\n",
       "      <th>return_count</th>\n",
       "      <th>status</th>\n",
       "    </tr>\n",
       "  </thead>\n",
       "  <tbody>\n",
       "    <tr>\n",
       "      <th>0</th>\n",
       "      <td>1</td>\n",
       "      <td>2</td>\n",
       "      <td>3</td>\n",
       "      <td>1</td>\n",
       "      <td>0</td>\n",
       "      <td>OK</td>\n",
       "    </tr>\n",
       "    <tr>\n",
       "      <th>1</th>\n",
       "      <td>2</td>\n",
       "      <td>3</td>\n",
       "      <td>2</td>\n",
       "      <td>1</td>\n",
       "      <td>1</td>\n",
       "      <td>OK</td>\n",
       "    </tr>\n",
       "  </tbody>\n",
       "</table>\n",
       "</div>"
      ],
      "text/plain": [
       "   order_id  count  event_id  item_id  return_count status\n",
       "0         1      2         3        1             0     OK\n",
       "1         2      3         2        1             1     OK"
      ]
     },
     "execution_count": 254,
     "metadata": {},
     "output_type": "execute_result"
    }
   ],
   "source": [
    "data = data.sort_values('event_id', \n",
    "                        ascending=False).groupby('order_id', as_index=False).first().loc[data[\"status\"] == 'OK']\n",
    "data.loc[data[\"status\"] == 'OK']"
   ]
  },
  {
   "cell_type": "code",
   "execution_count": 258,
   "metadata": {},
   "outputs": [],
   "source": [
    "features = [col for col in data]\n",
    "lst = data.to_numpy()"
   ]
  },
  {
   "cell_type": "code",
   "execution_count": 261,
   "metadata": {},
   "outputs": [
    {
     "name": "stdout",
     "output_type": "stream",
     "text": [
      "[1 2 3 1 0 'OK']\n",
      "[2 3 2 1 1 'OK']\n"
     ]
    }
   ],
   "source": [
    "ans = []\n",
    "for el in lst:\n",
    "    ans.append(lst[0] "
   ]
  },
  {
   "cell_type": "code",
   "execution_count": null,
   "metadata": {},
   "outputs": [],
   "source": []
  }
 ],
 "metadata": {
  "kernelspec": {
   "display_name": "Python 3",
   "language": "python",
   "name": "python3"
  },
  "language_info": {
   "codemirror_mode": {
    "name": "ipython",
    "version": 3
   },
   "file_extension": ".py",
   "mimetype": "text/x-python",
   "name": "python",
   "nbconvert_exporter": "python",
   "pygments_lexer": "ipython3",
   "version": "3.7.3"
  }
 },
 "nbformat": 4,
 "nbformat_minor": 2
}
